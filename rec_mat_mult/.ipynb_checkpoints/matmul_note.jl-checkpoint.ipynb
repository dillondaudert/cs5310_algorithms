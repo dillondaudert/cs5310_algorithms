{
 "cells": [
  {
   "cell_type": "code",
   "execution_count": 1,
   "metadata": {},
   "outputs": [
    {
     "data": {
      "text/plain": [
       "matmul_rec (generic function with 1 method)"
      ]
     },
     "execution_count": 1,
     "metadata": {},
     "output_type": "execute_result"
    }
   ],
   "source": [
    "function matmul_rec(A::AbstractArray, B::AbstractArray)\n",
    "    # get the number of rows in A\n",
    "    n = size(A,1)\n",
    "    # create a new matrix to hold the result\n",
    "    C = similar(A, (n, n))\n",
    "    if n == 1\n",
    "        # base case\n",
    "        C[1, 1] = A[1, 1] * B[1, 1]\n",
    "    else\n",
    "        # partition the matrices, assuming powers of 2\n",
    "        half = Int(n/2)\n",
    "        A_11 = A[1:half, 1:half]\n",
    "        A_12 = A[1:half, half+1:n]\n",
    "        A_21 = A[half+1:n, 1:half]\n",
    "        A_22 = A[half+1:n, half+1:n]\n",
    "        print(repr(A_11))\n",
    "        repr(A_12)\n",
    "        repr(A_21)\n",
    "        repr(A_22)\n",
    "        \n",
    "        # recursive case\n",
    "        \n",
    "        \n",
    "    end\n",
    "    \n",
    "    return C    \n",
    "end"
   ]
  },
  {
   "cell_type": "code",
   "execution_count": 2,
   "metadata": {},
   "outputs": [
    {
     "name": "stdout",
     "output_type": "stream",
     "text": [
      "[1 5 9 13; 2 6 10 14; 3 7 11 15; 4 8 12 16][1 5; 2 6]"
     ]
    },
    {
     "data": {
      "text/plain": [
       "4×4 Array{Int64,2}:\n",
       " 140594690195472  140594358529552  140594358529744  140594358529936\n",
       " 140594690195472  140594383499664  140594383499728  140594358530000\n",
       " 140594690195472  140594358529648  140594358529808  140594358530192\n",
       " 140594358529520  140594383499712  140594383499760                0"
      ]
     },
     "execution_count": 2,
     "metadata": {},
     "output_type": "execute_result"
    }
   ],
   "source": [
    "mymat = reshape([x for x in 1:16], 4, 4)\n",
    "print(mymat)\n",
    "matmul_rec(mymat, mymat)"
   ]
  },
  {
   "cell_type": "code",
   "execution_count": null,
   "metadata": {
    "collapsed": true
   },
   "outputs": [],
   "source": []
  }
 ],
 "metadata": {
  "kernelspec": {
   "display_name": "Julia 0.6.0",
   "language": "julia",
   "name": "julia-0.6"
  },
  "language_info": {
   "file_extension": ".jl",
   "mimetype": "application/julia",
   "name": "julia",
   "version": "0.6.0"
  }
 },
 "nbformat": 4,
 "nbformat_minor": 2
}
