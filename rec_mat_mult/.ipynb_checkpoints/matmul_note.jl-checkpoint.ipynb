{
 "cells": [
  {
   "cell_type": "code",
   "execution_count": 11,
   "metadata": {
    "collapsed": false
   },
   "outputs": [
    {
     "data": {
      "text/plain": [
       "matmul_rec (generic function with 1 method)"
      ]
     },
     "execution_count": 11,
     "metadata": {},
     "output_type": "execute_result"
    }
   ],
   "source": [
    "function matmul_rec(A::AbstractArray, B::AbstractArray)\n",
    "    # assert n x n matrix with n == 2^x, x >= 0\n",
    "    @assert size(A,1) >= 1\n",
    "    @assert size(A,1) == size(A,2)\n",
    "    @assert log2(size(A,1)) == floor(log2(size(A,1)))\n",
    "    # get the number of rows in A (and B)\n",
    "    n = size(A,1)\n",
    "    # create a new matrix to hold the result\n",
    "    C = similar(A, (n, n))\n",
    "    if n == 1\n",
    "        # base case\n",
    "        C[1, 1] = A[1, 1] * B[1, 1]\n",
    "    else\n",
    "        # partition the matrices, assuming powers of 2\n",
    "        half = Int(n/2)\n",
    "        A_11 = A[1:half, 1:half]\n",
    "        A_12 = A[1:half, half+1:n]\n",
    "        A_21 = A[half+1:n, 1:half]\n",
    "        A_22 = A[half+1:n, half+1:n]\n",
    "        B_11 = B[1:half, 1:half]\n",
    "        B_12 = B[1:half, half+1:n]\n",
    "        B_21 = B[half+1:n, 1:half]\n",
    "        B_22 = B[half+1:n, half+1:n]\n",
    "        \n",
    "        # recursive case\n",
    "        C[1:half, 1:half] = matmul_rec(A_11, B_11) + matmul_rec(A_12, B_21)\n",
    "        C[1:half, half+1:n] = matmul_rec(A_11, B_12) + matmul_rec(A_12, B_22)\n",
    "        C[half+1:n, 1:half] = matmul_rec(A_21, B_11) + matmul_rec(A_22, B_21)\n",
    "        C[half+1:n, half+1:n] = matmul_rec(A_21, B_12) + matmul_rec(A_22, B_22)    \n",
    "    end\n",
    "    \n",
    "    return C    \n",
    "end"
   ]
  },
  {
   "cell_type": "code",
   "execution_count": 15,
   "metadata": {
    "collapsed": false
   },
   "outputs": [
    {
     "data": {
      "text/plain": [
       "4×4 Array{Int64,2}:\n",
       " 1  1  1  1\n",
       " 1  1  1  1\n",
       " 1  1  1  1\n",
       " 1  1  1  1"
      ]
     },
     "execution_count": 15,
     "metadata": {},
     "output_type": "execute_result"
    }
   ],
   "source": [
    "mat1 = reshape([x for x in 1:16], 4, 4)\n",
    "mat2 = ones(Int64, 4, 4)"
   ]
  },
  {
   "cell_type": "code",
   "execution_count": 16,
   "metadata": {
    "collapsed": false
   },
   "outputs": [
    {
     "data": {
      "text/plain": [
       "4×4 Array{Int64,2}:\n",
       " 28  28  28  28\n",
       " 32  32  32  32\n",
       " 36  36  36  36\n",
       " 40  40  40  40"
      ]
     },
     "execution_count": 16,
     "metadata": {},
     "output_type": "execute_result"
    }
   ],
   "source": [
    "mat3 = matmul_rec(mat1, mat2)"
   ]
  },
  {
   "cell_type": "code",
   "execution_count": null,
   "metadata": {
    "collapsed": true
   },
   "outputs": [],
   "source": []
  }
 ],
 "metadata": {
  "kernelspec": {
   "display_name": "Julia 0.6.0",
   "language": "julia",
   "name": "julia-0.6"
  },
  "language_info": {
   "file_extension": ".jl",
   "mimetype": "application/julia",
   "name": "julia",
   "version": "0.6.0"
  }
 },
 "nbformat": 4,
 "nbformat_minor": 2
}
