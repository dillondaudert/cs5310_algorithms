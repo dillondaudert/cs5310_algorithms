{
 "cells": [
  {
   "cell_type": "code",
   "execution_count": 1,
   "metadata": {
    "collapsed": true
   },
   "outputs": [],
   "source": [
    "include(\"./bench.jl\")\n",
    "using Gadfly"
   ]
  },
  {
   "cell_type": "code",
   "execution_count": null,
   "metadata": {},
   "outputs": [
    {
     "name": "stdout",
     "output_type": "stream",
     "text": [
      "Timing 1x1 matrices\n",
      "0.000785329 seconds\n",
      "Timing 2x2 matrices\n",
      "0.004278113 seconds\n",
      "Timing 4x4 matrices\n",
      "0.041636392 seconds\n",
      "Timing 8x8 matrices\n",
      "0.099613233 seconds\n",
      "Timing 16x16 matrices\n",
      "0.737587417 seconds\n",
      "Timing 32x32 matrices\n",
      "5.545033978 seconds\n",
      "Timing 64x64 matrices\n",
      "44.660579343 seconds\n",
      "Timing 128x128 matrices\n",
      "350.661002554 seconds\n"
     ]
    }
   ],
   "source": [
    "max_n = 8\n",
    "num_samples = 1000\n",
    "times = time_matmul(max_n,num_samples)"
   ]
  },
  {
   "cell_type": "code",
   "execution_count": null,
   "metadata": {},
   "outputs": [],
   "source": [
    "plot(x=[2^n for n in 0:max_n], y=times, Geom.line)"
   ]
  },
  {
   "cell_type": "code",
   "execution_count": null,
   "metadata": {
    "collapsed": true
   },
   "outputs": [],
   "source": []
  }
 ],
 "metadata": {
  "kernelspec": {
   "display_name": "Julia 0.6.0",
   "language": "julia",
   "name": "julia-0.6"
  },
  "language_info": {
   "file_extension": ".jl",
   "mimetype": "application/julia",
   "name": "julia",
   "version": "0.6.0"
  }
 },
 "nbformat": 4,
 "nbformat_minor": 2
}
